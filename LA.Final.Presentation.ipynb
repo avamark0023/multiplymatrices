{
 "cells": [
  {
   "cell_type": "code",
   "execution_count": 1,
   "id": "f5872364",
   "metadata": {},
   "outputs": [],
   "source": [
    "import numpy as np\n",
    "matrix_a = np.array([\n",
    "    [1, 0, 1],\n",
    "    [2, 0, 1]\n",
    "])\n",
    "#2 by 3\n",
    "matrix_b = np.array([\n",
    "    [1, 2],\n",
    "    [1, 4],\n",
    "    [1, 2]\n",
    "])\n",
    "#3 by 2"
   ]
  },
  {
   "cell_type": "code",
   "execution_count": 2,
   "id": "31328e0d",
   "metadata": {},
   "outputs": [],
   "source": [
    "matrix_c = np.array([\n",
    "    [1, 0, 1, 9, 8],\n",
    "    [2, 0, 1, 0, 21],\n",
    "    [4, 9, 7, 0, 1],\n",
    "    [3, 7, 2, 8, 5]\n",
    "])\n",
    "#4 by 5\n",
    "matrix_d = np.array([\n",
    "    [1, 2, 2],\n",
    "    [5, 4, 9],\n",
    "    [2, 2, 0],\n",
    "    [3, 2, 1],\n",
    "    [9, 2, 1]\n",
    "])\n",
    "#5 by 3"
   ]
  },
  {
   "cell_type": "code",
   "execution_count": 3,
   "id": "e857ec0b",
   "metadata": {},
   "outputs": [],
   "source": [
    "matrix_e = np.array([\n",
    "    [1, 17, 11],\n",
    "    [2, 8, 12]\n",
    "])\n",
    "#2 by 3\n",
    "matrix_f = np.array([\n",
    "    [1, 2],\n",
    "    [1, 4]\n",
    "])\n",
    "#2 by 2"
   ]
  },
  {
   "cell_type": "code",
   "execution_count": 4,
   "id": "59fa26ea",
   "metadata": {},
   "outputs": [],
   "source": [
    "def matrix_multiplication(matrix_a,matrix_b):\n",
    "    rows_a, cols_a = matrix_a.shape\n",
    "    rows_b, cols_b = matrix_b.shape\n",
    "    product_matrix = np.zeros((rows_a, cols_b))\n",
    "    rows_p, cols_p = product_matrix.shape\n",
    "    if cols_a != rows_b:\n",
    "            print('STOP!!!!!!!!!!!!!!!!')\n",
    "    else:\n",
    "            for i in range(rows_p):\n",
    "                for j in range(cols_p):\n",
    "                    for k in range(cols_a):\n",
    "                        product_matrix[i][j] = product_matrix[i][j] + matrix_a[i][k]*matrix_b[k][j]\n",
    "    return(product_matrix)"
   ]
  },
  {
   "cell_type": "code",
   "execution_count": 5,
   "id": "6ad86e6c",
   "metadata": {},
   "outputs": [
    {
     "data": {
      "text/plain": [
       "array([[2., 4.],\n",
       "       [3., 6.]])"
      ]
     },
     "execution_count": 5,
     "metadata": {},
     "output_type": "execute_result"
    }
   ],
   "source": [
    "matrix_multiplication(matrix_a,matrix_b)"
   ]
  },
  {
   "cell_type": "code",
   "execution_count": 6,
   "id": "64ac6f5f",
   "metadata": {},
   "outputs": [
    {
     "data": {
      "text/plain": [
       "array([[102.,  38.,  19.],\n",
       "       [193.,  48.,  25.],\n",
       "       [ 72.,  60.,  90.],\n",
       "       [111.,  64.,  82.]])"
      ]
     },
     "execution_count": 6,
     "metadata": {},
     "output_type": "execute_result"
    }
   ],
   "source": [
    "matrix_multiplication(matrix_c,matrix_d)"
   ]
  },
  {
   "cell_type": "code",
   "execution_count": 7,
   "id": "3b76ac33",
   "metadata": {
    "scrolled": true
   },
   "outputs": [
    {
     "name": "stdout",
     "output_type": "stream",
     "text": [
      "STOP!!!!!!!!!!!!!!!!\n"
     ]
    },
    {
     "data": {
      "text/plain": [
       "array([[0., 0.],\n",
       "       [0., 0.]])"
      ]
     },
     "execution_count": 7,
     "metadata": {},
     "output_type": "execute_result"
    }
   ],
   "source": [
    "matrix_multiplication(matrix_e,matrix_f)"
   ]
  },
  {
   "cell_type": "code",
   "execution_count": null,
   "id": "0057838a",
   "metadata": {},
   "outputs": [],
   "source": [
    "rows_timing = 100\n",
    "cols_timing = 100\n",
    "random_matrix_100a = np.random.rand(rows_timing, cols_timing)\n",
    "rows_timingb = 100\n",
    "cols_timingb = 100\n",
    "random_matrix_100b = np.random.rand(rows_timing, cols_timing)"
   ]
  },
  {
   "cell_type": "code",
   "execution_count": 19,
   "id": "c73893b2",
   "metadata": {},
   "outputs": [
    {
     "name": "stdout",
     "output_type": "stream",
     "text": [
      "Elapsed time: 0.804653 seconds\n"
     ]
    }
   ],
   "source": [
    "import time\n",
    "start_time = time.time()\n",
    "\n",
    "matrix_multiplication(random_matrix_100a,random_matrix_100b)\n",
    "\n",
    "end_time = time.time()\n",
    "elapsed_time = end_time - start_time\n",
    "\n",
    "print(\"Elapsed time: {:.6f} seconds\".format(elapsed_time))"
   ]
  },

  {
   "cell_type": "code",
   "execution_count": null,
   "id": "e57edf71",
   "metadata": {},
   "outputs": [],
   "source": []
  }
 ],
 "metadata": {
  "kernelspec": {
   "display_name": "Python 3 (ipykernel)",
   "language": "python",
   "name": "python3"
  },
  "language_info": {
   "codemirror_mode": {
    "name": "ipython",
    "version": 3
   },
   "file_extension": ".py",
   "mimetype": "text/x-python",
   "name": "python",
   "nbconvert_exporter": "python",
   "pygments_lexer": "ipython3",
   "version": "3.11.4"
  }
 },
 "nbformat": 4,
 "nbformat_minor": 5
}
